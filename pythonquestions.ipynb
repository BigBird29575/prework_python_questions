{
 "cells": [
  {
   "cell_type": "code",
   "execution_count": null,
   "id": "1da2f8ac",
   "metadata": {},
   "outputs": [],
   "source": [
    "# Question 1\n",
    "# def hello_name(user_name): ??????????\n",
    "\n",
    "user_name = input(\"What is your name?\")\n",
    "print(\"Hello \" + user_name + \"!\")"
   ]
  },
  {
   "cell_type": "code",
   "execution_count": 9,
   "id": "45e15d71",
   "metadata": {},
   "outputs": [
    {
     "name": "stdout",
     "output_type": "stream",
     "text": [
      "1\n",
      "3\n",
      "5\n",
      "7\n",
      "9\n",
      "11\n",
      "13\n",
      "15\n",
      "17\n",
      "19\n",
      "21\n",
      "23\n",
      "25\n",
      "27\n",
      "29\n",
      "31\n",
      "33\n",
      "35\n",
      "37\n",
      "39\n",
      "41\n",
      "43\n",
      "45\n",
      "47\n",
      "49\n",
      "51\n",
      "53\n",
      "55\n",
      "57\n",
      "59\n",
      "61\n",
      "63\n",
      "65\n",
      "67\n",
      "69\n",
      "71\n",
      "73\n",
      "75\n",
      "77\n",
      "79\n",
      "81\n",
      "83\n",
      "85\n",
      "87\n",
      "89\n",
      "91\n",
      "93\n",
      "95\n",
      "97\n",
      "99\n"
     ]
    }
   ],
   "source": [
    "# Question 2\n",
    "# Write a python function, first_odds that prints \n",
    "# the odd numbers from 1-100 and returns nothing\n",
    "# def first_odds():\n",
    "        #print(first_odds) ??????????????????\n",
    "\n",
    "def first_odds():        \n",
    "    for x in range(1,100,2):\n",
    "        print(x)\n",
    "\n",
    "first_odds()"
   ]
  },
  {
   "cell_type": "code",
   "execution_count": null,
   "id": "9ba29f10",
   "metadata": {},
   "outputs": [],
   "source": [
    "# Question 3\n",
    "# Please write a Python function, max_num_in_list to \n",
    "# return the max number of a given list. The first line\n",
    "# of the code has been defined as below.\n",
    "\n",
    "\n",
    "max_number = max(1,2,3,4,5,6,7,8,925)\n",
    "\n",
    "print (max_number)"
   ]
  },
  {
   "cell_type": "code",
   "execution_count": 12,
   "id": "1ee7a04e",
   "metadata": {},
   "outputs": [
    {
     "name": "stdout",
     "output_type": "stream",
     "text": [
      "True\n"
     ]
    }
   ],
   "source": [
    "# Question 4\n",
    "# Write a function to return if the given year \n",
    "# is a leap year. A leap year is divisible by 4, \n",
    "# but not divisible by 100, unless it is also \n",
    "# divisible by 400. The return should be boolean \n",
    "# Type (true/false).\n",
    "\n",
    "\n",
    "year = 2036\n",
    "\n",
    "if (year % 4 == 0) and (year % 100 != 0 or year % 400 == 0):\n",
    "    print(True)\n",
    "else:\n",
    "    print(False)"
   ]
  },
  {
   "cell_type": "code",
   "execution_count": 5,
   "id": "50643e16",
   "metadata": {},
   "outputs": [
    {
     "data": {
      "text/plain": [
       "False"
      ]
     },
     "execution_count": 5,
     "metadata": {},
     "output_type": "execute_result"
    }
   ],
   "source": [
    "#Question 5\n",
    "#Write a function to check to see if all numbers\n",
    "#in list are consecutive numbers. For example, \n",
    "#[2,3,4,5,6,7] are consecutive numbers, but \n",
    "#[1,2,4,5] are not consecutive numbers. The return \n",
    "#should be boolean Type.\n",
    "\n",
    "\n",
    "con1 = [2,3,4,5,6,7]\n",
    "con2 = [1,2,3,6,9,22,8]\n",
    "\n",
    "def are_consecutive(con2):\n",
    "\n",
    "    for i in range(1, len(con2)):\n",
    "        if con2[i] != con2[i-1] + 1:\n",
    "            return False\n",
    "    \n",
    "    return True\n",
    "\n",
    "are_consecutive(con2)\n",
    "        \n",
    "        "
   ]
  }
 ],
 "metadata": {
  "kernelspec": {
   "display_name": "Python 3 (ipykernel)",
   "language": "python",
   "name": "python3"
  },
  "language_info": {
   "codemirror_mode": {
    "name": "ipython",
    "version": 3
   },
   "file_extension": ".py",
   "mimetype": "text/x-python",
   "name": "python",
   "nbconvert_exporter": "python",
   "pygments_lexer": "ipython3",
   "version": "3.10.9"
  }
 },
 "nbformat": 4,
 "nbformat_minor": 5
}
